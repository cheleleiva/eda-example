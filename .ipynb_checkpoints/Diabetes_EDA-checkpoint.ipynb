{
 "cells": [
  {
   "cell_type": "markdown",
   "metadata": {},
   "source": [
    "# Análisis Exploratorio de Datos"
   ]
  },
  {
   "cell_type": "markdown",
   "metadata": {},
   "source": [
    "El propósito de este EDA es encontrar ideas que nos servirán más tarde en otro notebook para la limpieza/preparación/transformación de datos que finalmente se utilizará en un algoritmo de aprendizaje automático.\n",
    "Procederemos de la siguiente manera:\n",
    "\n",
    "<img src=\"http://sharpsightlabs.com/wp-content/uploads/2016/05/1_data-analysis-for-ML_how-we-use-dataAnalysis_2016-05-16.png\" />"
   ]
  },
  {
   "cell_type": "markdown",
   "metadata": {},
   "source": [
    "# Diabetes\n",
    "\n",
    "La diabetes es una enfermedad que se produce cuando la glucosa en sangre, también llamada azúcar en sangre, es demasiado alta. El objetivo del dataset es predecir de forma diagnóstica si un paciente tiene o no diabetes, basándose en determinadas mediciones diagnósticas incluidas en el dataset. La selección de estas instancias a partir de una base de datos más amplia está sujeta a varias restricciones. En particular, todos los pacientes aquí son mujeres de al menos 21 años de edad de origen indio Pima."
   ]
  },
  {
   "cell_type": "markdown",
   "metadata": {
    "id": "PhE1sJwIvKof"
   },
   "source": [
    "# Preparación de los datos y el módelo"
   ]
  },
  {
   "cell_type": "markdown",
   "metadata": {},
   "source": [
    "Primero debemos importar las librerias necesarias"
   ]
  },
  {
   "cell_type": "code",
   "execution_count": null,
   "metadata": {
    "id": "8uGmlaAgvKog"
   },
   "outputs": [],
   "source": [
    "import pandas as pd\n",
    "import numpy as np\n",
    "import matplotlib.pyplot as plt\n",
    "import seaborn as sns\n",
    "\n",
    "\n",
    "%matplotlib inline\n",
    "\n",
    "plt.style.use('bmh')"
   ]
  },
  {
   "cell_type": "code",
   "execution_count": null,
   "metadata": {
    "id": "UWP1VXzBvKoh"
   },
   "outputs": [],
   "source": [
    "# Esta linea debemos de ejecutarla para que todos tengamos los mismos resultados\n",
    "SEED = 20\n",
    "np.random.seed(SEED)"
   ]
  },
  {
   "cell_type": "code",
   "execution_count": null,
   "metadata": {
    "id": "PUSbrWWNvKoi"
   },
   "outputs": [],
   "source": [
    "# Loading Data\n",
    "df = pd.read_csv('diabetes_1.csv')"
   ]
  },
  {
   "cell_type": "markdown",
   "metadata": {
    "id": "RCgPg_9CpXzl"
   },
   "source": [
    "# Análisis Exploratorio de Datos"
   ]
  },
  {
   "cell_type": "code",
   "execution_count": null,
   "metadata": {
    "colab": {
     "base_uri": "https://localhost:8080/"
    },
    "id": "rCZK4SvxpWjC",
    "outputId": "d38aef7a-3b51-4ff5-c61f-476f7bdbcf3d"
   },
   "outputs": [],
   "source": [
    "df.head()"
   ]
  },
  {
   "cell_type": "markdown",
   "metadata": {},
   "source": [
    "Las Columnas del data set son:\n",
    "\n",
    "Pregnancies -> Número de embarazos\n",
    "\n",
    "Glucose -> Concentración de glucosa en plasma\n",
    "\n",
    "BloodPressure -> Presión diastólica (mm Hg)\n",
    "\n",
    "SkinThickness -> Grosor del pliegue cutáneo del tríceps (mm)\n",
    "\n",
    "Insulin -> Insulina sérica en 2 horas (mu U/ml)\n",
    "\n",
    "BMI -> Indice de Masa Corporal\n",
    "\n",
    "DiabetesPedigreeFunction -> Función de pedigrí de la diabetes\n",
    "\n",
    "Age -> Edad en años\n",
    "\n",
    "Outcome -> Si la mujer es diabética o no, 0 representa que la persona no es diabética y 1 representa que la persona es diabética."
   ]
  },
  {
   "cell_type": "code",
   "execution_count": null,
   "metadata": {},
   "outputs": [],
   "source": [
    "print(\"El número de filas en el dataset es: \", df.shape)"
   ]
  },
  {
   "cell_type": "code",
   "execution_count": null,
   "metadata": {
    "colab": {
     "base_uri": "https://localhost:8080/"
    },
    "id": "o9nUO-X4UWvu",
    "outputId": "06024401-cf35-4fb8-d789-f674b36571bd"
   },
   "outputs": [],
   "source": [
    "df.info()"
   ]
  },
  {
   "cell_type": "code",
   "execution_count": null,
   "metadata": {
    "colab": {
     "base_uri": "https://localhost:8080/"
    },
    "id": "Syj42RXtUqi_",
    "outputId": "e5c12846-3e16-4bda-dccf-33c952be00dd",
    "scrolled": true
   },
   "outputs": [],
   "source": [
    "df.describe().T"
   ]
  },
  {
   "cell_type": "code",
   "execution_count": null,
   "metadata": {},
   "outputs": [],
   "source": [
    "sns.countplot(x=df['Outcome'])\n",
    "plt.show()"
   ]
  },
  {
   "cell_type": "code",
   "execution_count": null,
   "metadata": {},
   "outputs": [],
   "source": [
    "df['Outcome'].value_counts()"
   ]
  },
  {
   "cell_type": "markdown",
   "metadata": {},
   "source": [
    "Antes de seguir adelante, tenemos que comprobar cuáles son los valores mínimos para cada columna, ciertas columnas como la Glucosa o la Insulina no pueden tener valores como 0. Por lo tanto, tenemos que tener en cuenta estos valores."
   ]
  },
  {
   "cell_type": "code",
   "execution_count": null,
   "metadata": {
    "scrolled": true
   },
   "outputs": [],
   "source": [
    "for col in df.columns:\n",
    "    print(\"El valor mínimo para la columna '{}' es {}\".format(col, df[col].min()))"
   ]
  },
  {
   "cell_type": "markdown",
   "metadata": {},
   "source": [
    "Ahora bien, de las columnas anteriores que tienen el cero como mínimo, sólo la columna Pregnancie puede tomar los valores como cero, así que ¿qué debemos hacer con esas columnas que tienen el cero como mínimo aunque no se suponga que lo tengan?\n",
    "\n",
    "## Null Values\n",
    "\n",
    "¿Hay Valores Nulos? Como hemos dicho, ciertas columnas tienen cero como su mínimo a pesar de que no se supone que. Esos valores se consideran nulos. Reemplacemos los ceros presentes en las columnas Glucosa, Presión arterial, Grosor de la piel, Insulina e IMC por nulos."
   ]
  },
  {
   "cell_type": "code",
   "execution_count": null,
   "metadata": {},
   "outputs": [],
   "source": [
    "df[['Glucose', 'BloodPressure', 'SkinThickness', 'Insulin', 'BMI']] = df[['Glucose', 'BloodPressure', 'SkinThickness', 'Insulin', 'BMI']].replace(0, np.nan)"
   ]
  },
  {
   "cell_type": "code",
   "execution_count": null,
   "metadata": {},
   "outputs": [],
   "source": [
    "df.info()"
   ]
  },
  {
   "cell_type": "code",
   "execution_count": null,
   "metadata": {},
   "outputs": [],
   "source": [
    "df.isnull().sum()"
   ]
  },
  {
   "cell_type": "markdown",
   "metadata": {},
   "source": [
    "## Distribución de los datos\n",
    "\n",
    "Primero, vamos a remover la columna \"Outcome\", que es nuestro valor a predecir y además porque sabemos que solo son ceros (0) y unos (1)."
   ]
  },
  {
   "cell_type": "code",
   "execution_count": null,
   "metadata": {},
   "outputs": [],
   "source": [
    "df.drop('Outcome', axis=1).hist(figsize=(12,12), bins=50, xlabelsize=8, ylabelsize=8);"
   ]
  },
  {
   "cell_type": "markdown",
   "metadata": {},
   "source": [
    "## Asimetría\n",
    "Vamos a comprobar la asimetría de cada una de las columnas.\n",
    "\n",
    "La asimetría se refiere a la cantidad de asimetría en la característica dada o, en otras palabras, la cantidad de distorsiones de la distribución normal. El pico del histograma representa la moda.\n",
    "\n",
    "<img src=\"https://cdn.analyticsvidhya.com/wp-content/uploads/2020/06/sk1-850x321.png\" />\n",
    "\n",
    "- Si la asimetría es inferior a -1 o superior a 1, la distribución es muy asimétrica.\n",
    "- Si la asimetría está entre -1 y -0,5 o entre 0,5 y 1, la distribución es moderadamente asimétrica.\n",
    "- Si la asimetría está entre -0,5 y 0,5, la distribución es aproximadamente simétrica."
   ]
  },
  {
   "cell_type": "code",
   "execution_count": null,
   "metadata": {},
   "outputs": [],
   "source": [
    "from scipy.stats import skew\n",
    "for col in df.drop('Outcome', axis=1).columns:\n",
    "    print(\"La Asimetría de la columna {} es {}\".format(col, df[col].skew()))"
   ]
  },
  {
   "cell_type": "markdown",
   "metadata": {},
   "source": [
    "Las columnas `Pregnancies`, `Glucose`, `BloodPressure`, `SkinThickness` y `BMI` no tienen mucha asimetría. Por lo tanto, podemos llenar esos valores con el promedio, pero las columnas `Insulin`, y `DiabetesPedrigeeFunction`, vamos a reemplazar los Null con la mediana, debido al efecto de la asimetría."
   ]
  },
  {
   "cell_type": "markdown",
   "metadata": {},
   "source": [
    "### Utilizando las herramientas de Pandas para reemplazar los Null"
   ]
  },
  {
   "cell_type": "code",
   "execution_count": null,
   "metadata": {},
   "outputs": [],
   "source": [
    "# Reemplezando los null con la mediana.\n",
    "df['Insulin'] = df['Insulin'].fillna(df['Insulin'].median())\n",
    "\n",
    "# Reemplazando los null con la media/promedio\n",
    "for col in ['Glucose', 'BloodPressure', 'SkinThickness', 'BMI']:\n",
    "    df[col] = df[col].fillna(df[col].mean())"
   ]
  },
  {
   "cell_type": "code",
   "execution_count": null,
   "metadata": {},
   "outputs": [],
   "source": [
    "df.isnull().sum()"
   ]
  },
  {
   "cell_type": "code",
   "execution_count": null,
   "metadata": {},
   "outputs": [],
   "source": [
    "sns.boxplot(x = 'Outcome', y = 'Age', data = df)\n",
    "plt.title('Age vs Outcome')\n",
    "plt.show()"
   ]
  },
  {
   "cell_type": "markdown",
   "metadata": {},
   "source": [
    "La mediana de la edad de los diabéticos es mayor que la de los no diabéticos.\n",
    "\n",
    "Comprobemos también el efecto de la presión arterial en el resultado."
   ]
  },
  {
   "cell_type": "code",
   "execution_count": null,
   "metadata": {},
   "outputs": [],
   "source": [
    "sns.boxplot(x = 'Outcome', y = 'BloodPressure', data = df, palette = 'Blues')\n",
    "plt.title('BP vs Outcome')\n",
    "plt.show()"
   ]
  },
  {
   "cell_type": "markdown",
   "metadata": {},
   "source": [
    "La mediana de la presión arterial de las personas diabéticas se sitúa cerca del percentil 75 de las personas no diabéticas."
   ]
  },
  {
   "cell_type": "markdown",
   "metadata": {},
   "source": [
    "## Matriz de Correlación"
   ]
  },
  {
   "cell_type": "code",
   "execution_count": null,
   "metadata": {},
   "outputs": [],
   "source": [
    "corr = df.corr()\n",
    "plt.figure(figsize=(12, 10))\n",
    "\n",
    "sns.heatmap(corr, \n",
    "            cmap='viridis', vmax=1.0, vmin=-1.0, linewidths=0.1,\n",
    "            annot=True, annot_kws={\"size\": 8}, square=True);"
   ]
  },
  {
   "cell_type": "code",
   "execution_count": null,
   "metadata": {},
   "outputs": [],
   "source": []
  }
 ],
 "metadata": {
  "colab": {
   "name": "Diabetes - ML 21 Agosto",
   "provenance": []
  },
  "kernelspec": {
   "display_name": "Python 3 (ipykernel)",
   "language": "python",
   "name": "python3"
  },
  "language_info": {
   "codemirror_mode": {
    "name": "ipython",
    "version": 3
   },
   "file_extension": ".py",
   "mimetype": "text/x-python",
   "name": "python",
   "nbconvert_exporter": "python",
   "pygments_lexer": "ipython3",
   "version": "3.9.12"
  }
 },
 "nbformat": 4,
 "nbformat_minor": 1
}
